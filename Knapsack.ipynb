{
 "cells": [
  {
   "cell_type": "markdown",
   "id": "46915a4d",
   "metadata": {},
   "source": [
    "# Knapsack Problem (0/1):"
   ]
  },
  {
   "cell_type": "markdown",
   "id": "9eebde64",
   "metadata": {},
   "source": [
    "### The 0/1 Knapsack Problem is a classic optimization problem."
   ]
  },
  {
   "cell_type": "code",
   "execution_count": 1,
   "id": "36fe89c4",
   "metadata": {},
   "outputs": [
    {
     "name": "stdout",
     "output_type": "stream",
     "text": [
      "The maximum value that can be obtained is 220\n"
     ]
    }
   ],
   "source": [
    "def knapsack(values, weights, capacity):\n",
    "    n = len(values)\n",
    "    dp = [[0] * (capacity + 1) for _ in range(n + 1)]\n",
    "\n",
    "    for i in range(n + 1):\n",
    "        for w in range(capacity + 1):\n",
    "            if i == 0 or w == 0:\n",
    "                dp[i][w] = 0\n",
    "            elif weights[i - 1] <= w:\n",
    "                dp[i][w] = max(values[i - 1] + dp[i - 1][w - weights[i - 1]], dp[i - 1][w])\n",
    "            else:\n",
    "                dp[i][w] = dp[i - 1][w]\n",
    "\n",
    "    return dp[n][capacity]\n",
    "\n",
    "# Initialize values, weights, and capacity\n",
    "values = [60, 100, 120]  # List of values for items\n",
    "weights = [10, 20, 30]  # List of weights for items\n",
    "capacity = 50  # Maximum capacity of the knapsack\n",
    "\n",
    "# Call the knapsack function with the initialized values, weights, and capacity\n",
    "result = knapsack(values, weights, capacity)\n",
    "\n",
    "print(f\"The maximum value that can be obtained is {result}\")\n"
   ]
  },
  {
   "cell_type": "code",
   "execution_count": null,
   "id": "0a152aa6",
   "metadata": {},
   "outputs": [],
   "source": []
  }
 ],
 "metadata": {
  "kernelspec": {
   "display_name": "Python 3 (ipykernel)",
   "language": "python",
   "name": "python3"
  },
  "language_info": {
   "codemirror_mode": {
    "name": "ipython",
    "version": 3
   },
   "file_extension": ".py",
   "mimetype": "text/x-python",
   "name": "python",
   "nbconvert_exporter": "python",
   "pygments_lexer": "ipython3",
   "version": "3.11.5"
  }
 },
 "nbformat": 4,
 "nbformat_minor": 5
}
